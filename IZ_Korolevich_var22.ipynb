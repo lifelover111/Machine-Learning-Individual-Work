{
 "cells": [
  {
   "cell_type": "code",
   "execution_count": 1,
   "id": "3da2be86",
   "metadata": {},
   "outputs": [],
   "source": [
    "import pandas as pd\n",
    "import sklearn as skl\n",
    "combats = pd.read_csv(\"combats.csv\", delimiter=',')\n",
    "pokemon = pd.read_csv(\"pokemon.csv\", delimiter=',')\n",
    "pokemon_id_each_team = pd.read_csv(\"pokemon_id_each_team.csv\", delimiter=',')\n",
    "team_combat = pd.read_csv(\"team_combat.csv\")\n",
    "pokemon = pokemon.drop(['HP', 'Defense', 'Sp. Atk', 'Sp. Def', 'Speed', 'Generation', 'Name', 'Type 1', 'Type 2', 'Legendary'], axis = 1)\n",
    "pokemon = pokemon.rename(columns={'#':'id'})\n",
    "pokemon_id_each_team = pokemon_id_each_team.rename(columns={'#':'id'})"
   ]
  },
  {
   "cell_type": "code",
   "execution_count": 40,
   "id": "8b9def97",
   "metadata": {},
   "outputs": [],
   "source": [
    "#combats.describe()\n",
    "#pokemon.describe()\n",
    "#pokemon_id_each_team.describe()\n",
    "#team_combat.describe()"
   ]
  },
  {
   "cell_type": "code",
   "execution_count": 7,
   "id": "19abd525",
   "metadata": {},
   "outputs": [],
   "source": [
    "# Датафрейм с информацией об одиночных победах покемонов\n",
    "wins = pd.DataFrame({'id': range(1, 801), 'wins': 0, 'battles': 0})\n",
    "for i in range(len(combats)):\n",
    "    winner = combats.iloc[i]['Winner']\n",
    "    wins.iloc[winner-1]['wins'] += 1\n",
    "    tmp_pokemon1 = combats.iloc[i]['First_pokemon']\n",
    "    wins.iloc[tmp_pokemon1-1]['battles'] += 1\n",
    "    tmp_pokemon2 = combats.iloc[i]['Second_pokemon']\n",
    "    wins.iloc[tmp_pokemon2-1]['battles'] += 1\n",
    "wins['win_pct'] = wins['wins'] / wins['battles']"
   ]
  },
  {
   "cell_type": "code",
   "execution_count": 20,
   "id": "b1691589",
   "metadata": {},
   "outputs": [],
   "source": [
    "# Датафрейм с информацией о победах покемонов в командах\n",
    "team_wins = pd.DataFrame({'id': range(1, 801), 'wins': 0, 'battles': 0})\n",
    "for i in range(len(team_combat)):\n",
    "    winner = team_combat.iloc[i]['winner']\n",
    "    for j in range(6):\n",
    "        tmp_pokemon1 = pokemon_id_each_team.iloc[team_combat.iloc[i][winner]-1][j+1]\n",
    "        tmp_pokemon2 = pokemon_id_each_team.iloc[team_combat.iloc[i][(winner+1)%2]-1][j+1]\n",
    "        team_wins.iloc[tmp_pokemon1-1]['battles'] += 1\n",
    "        team_wins.iloc[tmp_pokemon2-1]['battles'] += 1\n",
    "        team_wins.iloc[tmp_pokemon1-1]['wins'] += 1\n",
    "team_wins['win_pct'] = team_wins['wins'] / team_wins['battles']"
   ]
  },
  {
   "cell_type": "code",
   "execution_count": 39,
   "id": "3691c496",
   "metadata": {},
   "outputs": [
    {
     "name": "stdout",
     "output_type": "stream",
     "text": [
      "0.23993760513148144\n"
     ]
    }
   ],
   "source": [
    "from sklearn.model_selection import KFold, cross_val_score\n",
    "from sklearn.linear_model import LinearRegression\n",
    "df = pokemon.merge(wins, on='id').merge(team_wins, on='id')\n",
    "df['win_pct_y'].fillna(value=0.5, inplace=True)\n",
    "#df = df.dropna(subset=['win_pct_y'])\n",
    "df = df.dropna(subset=['win_pct_x'])\n",
    "X = df[['win_pct_x', 'win_pct_y']]\n",
    "y = df['Attack']\n",
    "lr = LinearRegression()\n",
    "cv = KFold(n_splits=10, shuffle=True, random_state=0)\n",
    "scores = cross_val_score(lr,X,y, cv=cv)\n",
    "print(scores.mean())"
   ]
  },
  {
   "cell_type": "code",
   "execution_count": null,
   "id": "4da661ab",
   "metadata": {},
   "outputs": [],
   "source": []
  }
 ],
 "metadata": {
  "kernelspec": {
   "display_name": "Python 3 (ipykernel)",
   "language": "python",
   "name": "python3"
  },
  "language_info": {
   "codemirror_mode": {
    "name": "ipython",
    "version": 3
   },
   "file_extension": ".py",
   "mimetype": "text/x-python",
   "name": "python",
   "nbconvert_exporter": "python",
   "pygments_lexer": "ipython3",
   "version": "3.10.6"
  }
 },
 "nbformat": 4,
 "nbformat_minor": 5
}
